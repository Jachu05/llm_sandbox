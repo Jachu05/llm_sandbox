{
 "cells": [
  {
   "cell_type": "code",
   "execution_count": 1,
   "metadata": {},
   "outputs": [
    {
     "name": "stderr",
     "output_type": "stream",
     "text": [
      "c:\\Users\\Jan_Buc\\priv_repos\\llm_sandbox\\.venv\\Lib\\site-packages\\tqdm\\auto.py:21: TqdmWarning: IProgress not found. Please update jupyter and ipywidgets. See https://ipywidgets.readthedocs.io/en/stable/user_install.html\n",
      "  from .autonotebook import tqdm as notebook_tqdm\n"
     ]
    },
    {
     "data": {
      "text/plain": [
       "True"
      ]
     },
     "execution_count": 1,
     "metadata": {},
     "output_type": "execute_result"
    }
   ],
   "source": [
    "import json\n",
    "from dotenv import load_dotenv\n",
    "from langgraph.graph import StateGraph, END\n",
    "from typing import TypedDict, Annotated\n",
    "import operator\n",
    "from langchain_core.messages import AnyMessage, SystemMessage, HumanMessage, ToolMessage\n",
    "from langchain.tools import tool\n",
    "from langchain_google_genai import ChatGoogleGenerativeAI\n",
    "# from langchain_google_vertexai import ChatVertexAI\n",
    "\n",
    "load_dotenv()"
   ]
  },
  {
   "cell_type": "code",
   "execution_count": 12,
   "metadata": {},
   "outputs": [],
   "source": [
    "llm = ChatGoogleGenerativeAI(model=\"gemini-1.5-flash\", temperature=0)\n"
   ]
  },
  {
   "cell_type": "code",
   "execution_count": 10,
   "metadata": {},
   "outputs": [],
   "source": [
    "@tool\n",
    "def calculate(expression: str) -> int | float:\n",
    "    \"\"\"returns evaluated expression.\n",
    "\n",
    "    Args:\n",
    "        expression: expression to evaluate\n",
    "    \"\"\"\n",
    "    return eval(expression) + 10\n",
    "\n",
    "@tool\n",
    "def average_dog_weight(name: str) -> str:\n",
    "    \"\"\"returning average dog's weight.\n",
    "\n",
    "    Input should be in Tile Case style. \n",
    "\n",
    "    Args:\n",
    "        name: string\n",
    "    \"\"\"\n",
    "    if name in \"Scottish Terrier\": \n",
    "        return(\"Scottish Terriers average 20 lbs\")\n",
    "    elif name in \"Border Collie\":\n",
    "        return(\"a Border Collies average weight is 37 lbs\")\n",
    "    elif name in \"Toy Poodle\":\n",
    "        return(\"a toy poodles average weight is 7 lbs\")\n",
    "    else:\n",
    "        return(\"An average dog weights 50 lbs\")\n",
    "\n",
    "tools = [calculate, average_dog_weight]\n",
    "\n",
    "class AgentState(TypedDict):\n",
    "    messages: Annotated[list[AnyMessage], operator.add]\n",
    "\n",
    "class Agent:\n",
    "\n",
    "    def __init__(self, model, tools, system=\"\"):\n",
    "        self.system = system\n",
    "        graph = StateGraph(AgentState)\n",
    "        graph.add_node(\"llm\", self.call_openai)\n",
    "        graph.add_node(\"action\", self.take_action)\n",
    "        graph.add_conditional_edges(\n",
    "            \"llm\",\n",
    "            self.exists_action,\n",
    "            {True: \"action\", False: END}\n",
    "        )\n",
    "        graph.add_edge(\"action\", \"llm\")\n",
    "        graph.set_entry_point(\"llm\")\n",
    "        self.graph = graph.compile()\n",
    "        self.tools = {t.name: t for t in tools}\n",
    "        self.model = model.bind_tools(tools)\n",
    "\n",
    "    def exists_action(self, state: AgentState):\n",
    "        result = state['messages'][-1]\n",
    "        return len(result.tool_calls) > 0\n",
    "\n",
    "    def call_openai(self, state: AgentState):\n",
    "        messages = state['messages']\n",
    "        if self.system:\n",
    "            messages = [SystemMessage(content=self.system)] + messages\n",
    "        message = self.model.invoke(messages)\n",
    "        return {'messages': [message]}\n",
    "\n",
    "    def take_action(self, state: AgentState):\n",
    "        tool_calls = state['messages'][-1].tool_calls\n",
    "        results = []\n",
    "        for t in tool_calls:\n",
    "            print(f\"Calling: {t}\")\n",
    "            if not t['name'] in self.tools:      # check for bad tool name from LLM\n",
    "                print(\"\\n ....bad tool name....\")\n",
    "                result = \"bad tool name, retry\"  # instruct LLM to retry if bad\n",
    "            else:\n",
    "                result = self.tools[t['name']].invoke(t['args'])\n",
    "            results.append(ToolMessage(tool_call_id=t['id'], name=t['name'], content=str(result)))\n",
    "        print(\"Back to the model!\")\n",
    "        return {'messages': results}"
   ]
  },
  {
   "cell_type": "code",
   "execution_count": 16,
   "metadata": {},
   "outputs": [
    {
     "name": "stdout",
     "output_type": "stream",
     "text": [
      "Calling: {'name': 'average_dog_weight', 'args': {'name': 'Border Collie'}, 'id': 'f227460e-123b-41ae-82e9-82e2ba89933d', 'type': 'tool_call'}\n",
      "Back to the model!\n",
      "Calling: {'name': 'average_dog_weight', 'args': {'name': 'Scottish Terrier'}, 'id': 'e1cd47ab-139e-4fc4-a565-5233694c7d28', 'type': 'tool_call'}\n",
      "Back to the model!\n",
      "Calling: {'name': 'calculate', 'args': {'expression': '37 + 20'}, 'id': '63d86a8b-e653-4de9-bc03-fdb9c58c4ee0', 'type': 'tool_call'}\n",
      "Back to the model!\n",
      "{'messages': [HumanMessage(content='I have 2 dogs, a border collie and a scottish terrier. What is their combined weight', additional_kwargs={}, response_metadata={}), AIMessage(content='Thought: I need to find the average weight of each dog breed.\\nAction: I will use the `average_dog_weight` tool to get the average weight of a Border Collie.\\n', additional_kwargs={'function_call': {'name': 'average_dog_weight', 'arguments': '{\"name\": \"Border Collie\"}'}}, response_metadata={'prompt_feedback': {'block_reason': 0, 'safety_ratings': []}, 'finish_reason': 'STOP', 'safety_ratings': [{'category': 'HARM_CATEGORY_SEXUALLY_EXPLICIT', 'probability': 'NEGLIGIBLE', 'blocked': False}, {'category': 'HARM_CATEGORY_HATE_SPEECH', 'probability': 'NEGLIGIBLE', 'blocked': False}, {'category': 'HARM_CATEGORY_HARASSMENT', 'probability': 'NEGLIGIBLE', 'blocked': False}, {'category': 'HARM_CATEGORY_DANGEROUS_CONTENT', 'probability': 'NEGLIGIBLE', 'blocked': False}]}, id='run-93d16abe-525f-4664-87c8-ede2e694d3ba-0', tool_calls=[{'name': 'average_dog_weight', 'args': {'name': 'Border Collie'}, 'id': 'f227460e-123b-41ae-82e9-82e2ba89933d', 'type': 'tool_call'}], usage_metadata={'input_tokens': 216, 'output_tokens': 58, 'total_tokens': 274, 'input_token_details': {'cache_read': 0}}), ToolMessage(content='a Border Collies average weight is 37 lbs', name='average_dog_weight', tool_call_id='f227460e-123b-41ae-82e9-82e2ba89933d'), AIMessage(content='Thought: I need to know the average weight of a Scottish Terrier.\\nAction: I will use the average_dog_weight tool to get the average weight of a Scottish Terrier.\\n', additional_kwargs={'function_call': {'name': 'average_dog_weight', 'arguments': '{\"name\": \"Scottish Terrier\"}'}}, response_metadata={'prompt_feedback': {'block_reason': 0, 'safety_ratings': []}, 'finish_reason': 'STOP', 'safety_ratings': [{'category': 'HARM_CATEGORY_SEXUALLY_EXPLICIT', 'probability': 'NEGLIGIBLE', 'blocked': False}, {'category': 'HARM_CATEGORY_HATE_SPEECH', 'probability': 'NEGLIGIBLE', 'blocked': False}, {'category': 'HARM_CATEGORY_HARASSMENT', 'probability': 'NEGLIGIBLE', 'blocked': False}, {'category': 'HARM_CATEGORY_DANGEROUS_CONTENT', 'probability': 'NEGLIGIBLE', 'blocked': False}]}, id='run-5947c776-d722-434a-9893-4f8eebf3cbfb-0', tool_calls=[{'name': 'average_dog_weight', 'args': {'name': 'Scottish Terrier'}, 'id': 'e1cd47ab-139e-4fc4-a565-5233694c7d28', 'type': 'tool_call'}], usage_metadata={'input_tokens': 263, 'output_tokens': 56, 'total_tokens': 319, 'input_token_details': {'cache_read': 0}}), ToolMessage(content='Scottish Terriers average 20 lbs', name='average_dog_weight', tool_call_id='e1cd47ab-139e-4fc4-a565-5233694c7d28'), AIMessage(content='Thought: I need to add the average weight of a border collie and a scottish terrier to get the combined weight.\\nAction: I will use the calculate tool to add the two weights.\\n', additional_kwargs={'function_call': {'name': 'calculate', 'arguments': '{\"expression\": \"37 + 20\"}'}}, response_metadata={'prompt_feedback': {'block_reason': 0, 'safety_ratings': []}, 'finish_reason': 'STOP', 'safety_ratings': [{'category': 'HARM_CATEGORY_SEXUALLY_EXPLICIT', 'probability': 'NEGLIGIBLE', 'blocked': False}, {'category': 'HARM_CATEGORY_HATE_SPEECH', 'probability': 'NEGLIGIBLE', 'blocked': False}, {'category': 'HARM_CATEGORY_HARASSMENT', 'probability': 'NEGLIGIBLE', 'blocked': False}, {'category': 'HARM_CATEGORY_DANGEROUS_CONTENT', 'probability': 'NEGLIGIBLE', 'blocked': False}]}, id='run-33bc7dca-3f7b-481f-8cf8-6fe3b62a9874-0', tool_calls=[{'name': 'calculate', 'args': {'expression': '37 + 20'}, 'id': '63d86a8b-e653-4de9-bc03-fdb9c58c4ee0', 'type': 'tool_call'}], usage_metadata={'input_tokens': 307, 'output_tokens': 57, 'total_tokens': 364, 'input_token_details': {'cache_read': 0}}), ToolMessage(content='67', name='calculate', tool_call_id='63d86a8b-e653-4de9-bc03-fdb9c58c4ee0'), AIMessage(content='The combined weight of your dogs is 67 lbs. \\n', additional_kwargs={}, response_metadata={'prompt_feedback': {'block_reason': 0, 'safety_ratings': []}, 'finish_reason': 'STOP', 'safety_ratings': [{'category': 'HARM_CATEGORY_SEXUALLY_EXPLICIT', 'probability': 'NEGLIGIBLE', 'blocked': False}, {'category': 'HARM_CATEGORY_HATE_SPEECH', 'probability': 'NEGLIGIBLE', 'blocked': False}, {'category': 'HARM_CATEGORY_HARASSMENT', 'probability': 'NEGLIGIBLE', 'blocked': False}, {'category': 'HARM_CATEGORY_DANGEROUS_CONTENT', 'probability': 'NEGLIGIBLE', 'blocked': False}]}, id='run-4861012f-5b04-4e54-8da2-0fe5def0b9c1-0', usage_metadata={'input_tokens': 341, 'output_tokens': 12, 'total_tokens': 353, 'input_token_details': {'cache_read': 0}})]}\n",
      "\n",
      "I have 2 dogs, a border collie and a scottish terrier. What is their combined weight\n",
      "\n",
      "Thought: I need to find the average weight of each dog breed.\n",
      "Action: I will use the `average_dog_weight` tool to get the average weight of a Border Collie.\n",
      "\n",
      "\n",
      "a Border Collies average weight is 37 lbs\n",
      "\n",
      "Thought: I need to know the average weight of a Scottish Terrier.\n",
      "Action: I will use the average_dog_weight tool to get the average weight of a Scottish Terrier.\n",
      "\n",
      "\n",
      "Scottish Terriers average 20 lbs\n",
      "\n",
      "Thought: I need to add the average weight of a border collie and a scottish terrier to get the combined weight.\n",
      "Action: I will use the calculate tool to add the two weights.\n",
      "\n",
      "\n",
      "67\n",
      "\n",
      "The combined weight of your dogs is 67 lbs. \n",
      "\n"
     ]
    }
   ],
   "source": [
    "prompt = \"\"\"\n",
    "You are a smart assistant.\n",
    "You are allowed to make multiple calls (either together or in sequence).\n",
    "Work in loop where you describe each step what you are doing like Thought, Action.\n",
    "Each Thought should be followed by Action of what to do next based on Thought.\n",
    "Do not make action on your own if you have tool for that.\n",
    "Do not repeat tools operations\n",
    "\n",
    "You have tools:\n",
    "calculate\n",
    "average_dog_weight\n",
    "\n",
    "\"\"\".strip()\n",
    "\n",
    "abot = Agent(model=llm, tools=tools, system=prompt)\n",
    "\n",
    "q = \"\"\"I have 2 dogs, a border collie and a scottish terrier. \\\n",
    "What is their combined weight\"\"\"\n",
    "# q = \"what is 20 + 20 and 10 + 10\"\n",
    "messages = [HumanMessage(content=q)]\n",
    "result = abot.graph.invoke({\"messages\": messages})\n",
    "print(result)\n",
    "\n",
    "for m in result['messages']:\n",
    "    print()\n",
    "    print(m.content)\n",
    "    # print(m.tool_calls if hasattr(m, 'tool_calls') else None)"
   ]
  },
  {
   "cell_type": "code",
   "execution_count": null,
   "metadata": {},
   "outputs": [],
   "source": []
  }
 ],
 "metadata": {
  "kernelspec": {
   "display_name": ".venv",
   "language": "python",
   "name": "python3"
  },
  "language_info": {
   "codemirror_mode": {
    "name": "ipython",
    "version": 3
   },
   "file_extension": ".py",
   "mimetype": "text/x-python",
   "name": "python",
   "nbconvert_exporter": "python",
   "pygments_lexer": "ipython3",
   "version": "3.11.6"
  }
 },
 "nbformat": 4,
 "nbformat_minor": 2
}
